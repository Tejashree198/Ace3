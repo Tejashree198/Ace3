{
  "nbformat": 4,
  "nbformat_minor": 0,
  "metadata": {
    "colab": {
      "provenance": [],
      "authorship_tag": "ABX9TyOhF0YGBwkQ40BPpwUOSiKh",
      "include_colab_link": true
    },
    "kernelspec": {
      "name": "python3",
      "display_name": "Python 3"
    },
    "language_info": {
      "name": "python"
    }
  },
  "cells": [
    {
      "cell_type": "markdown",
      "metadata": {
        "id": "view-in-github",
        "colab_type": "text"
      },
      "source": [
        "<a href=\"https://colab.research.google.com/github/Tejashree198/Ace3/blob/main/quicksort%20random%20and%20deterministic.ipynb\" target=\"_parent\"><img src=\"https://colab.research.google.com/assets/colab-badge.svg\" alt=\"Open In Colab\"/></a>"
      ]
    },
    {
      "cell_type": "code",
      "execution_count": null,
      "metadata": {
        "colab": {
          "base_uri": "https://localhost:8080/"
        },
        "id": "b_LqoI3a7Uz-",
        "outputId": "cafbd8f8-a017-435d-972a-39dddbac0a47"
      },
      "outputs": [
        {
          "output_type": "stream",
          "name": "stdout",
          "text": [
            "Original array: 12 4 5 6 7 3 1 15 8 9 2 10 \n",
            "Sorted array: 1 2 3 4 5 6 7 8 9 10 12 15 \n"
          ]
        }
      ],
      "source": [
        "# Quicksort\n",
        "# Deterministic Quicksort\n",
        "\n",
        "def partition(arr, low, high):\n",
        "    pivot = arr[(low + high) // 2]\n",
        "    i = low - 1\n",
        "    j = high + 1\n",
        "\n",
        "    while True:\n",
        "        while True:\n",
        "            i += 1\n",
        "            if arr[i] >= pivot:\n",
        "                break\n",
        "        while True:\n",
        "            j -= 1\n",
        "            if arr[j] <= pivot:\n",
        "                break\n",
        "        if i >= j:\n",
        "            return j\n",
        "\n",
        "        arr[i], arr[j] = arr[j], arr[i]\n",
        "\n",
        "def quicksort(arr, low, high):\n",
        "    if low < high:\n",
        "        pivot_index = partition(arr, low, high)\n",
        "        quicksort(arr, low, pivot_index)\n",
        "        quicksort(arr, pivot_index + 1, high)\n",
        "\n",
        "if __name__ == \"__main__\":\n",
        "    arr = [12, 4, 5, 6, 7, 3, 1, 15, 8, 9, 2, 10]\n",
        "\n",
        "    print(\"Original array:\", end=\" \")\n",
        "    for num in arr:\n",
        "        print(num, end=\" \")\n",
        "    print()\n",
        "\n",
        "    quicksort(arr, 0, len(arr) - 1)\n",
        "\n",
        "    print(\"Sorted array:\", end=\" \")\n",
        "    for num in arr:\n",
        "        print(num, end=\" \")\n",
        "    print()\n"
      ]
    },
    {
      "cell_type": "code",
      "source": [
        "# Quicksort\n",
        "# Randomized Quicksort\n",
        "\n",
        "import random\n",
        "\n",
        "# Function to partition the array\n",
        "def partition_left(arr, low, high):\n",
        "    pivot = arr[high]\n",
        "    i = low\n",
        "    for j in range(low, high):\n",
        "        if arr[j] <= pivot:\n",
        "            arr[i], arr[j] = arr[j], arr[i]\n",
        "            i += 1\n",
        "    arr[i], arr[high] = arr[high], arr[i]\n",
        "    return i\n",
        "\n",
        "# Function to perform random partition\n",
        "def partition_right(arr, low, high):\n",
        "    r = random.randint(low, high)\n",
        "    arr[r], arr[high] = arr[high], arr[r]\n",
        "    return partition_left(arr, low, high)\n",
        "\n",
        "# Recursive function for quicksort\n",
        "def quicksort(arr, low, high):\n",
        "    if low < high:\n",
        "        p = partition_right(arr, low, high)\n",
        "        quicksort(arr, low, p - 1)\n",
        "        quicksort(arr, p + 1, high)\n",
        "\n",
        "# Function to print the array\n",
        "def print_array(arr):\n",
        "    for item in arr:\n",
        "        print(item, end=\" \")\n",
        "    print()\n",
        "\n",
        "# Driver code\n",
        "if __name__ == \"__main__\":\n",
        "    arr = [6, 4, 12, 8, 15, 16]\n",
        "    n = len(arr)\n",
        "\n",
        "    print(\"Original array:\", end=\" \")\n",
        "    print_array(arr)\n",
        "\n",
        "    quicksort(arr, 0, n - 1)\n",
        "\n",
        "    print(\"Sorted array:\", end=\" \")\n",
        "    print_array(arr)"
      ],
      "metadata": {
        "colab": {
          "base_uri": "https://localhost:8080/"
        },
        "id": "zaiSYcXLEAvG",
        "outputId": "afebb60f-c5bf-4459-ab7f-ed566fef0630"
      },
      "execution_count": null,
      "outputs": [
        {
          "output_type": "stream",
          "name": "stdout",
          "text": [
            "Original array: 6 4 12 8 15 16 \n",
            "Sorted array: 4 6 8 12 15 16 \n"
          ]
        }
      ]
    }
  ]
}