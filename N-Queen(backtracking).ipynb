{
  "cells": [
    {
      "cell_type": "markdown",
      "metadata": {
        "id": "view-in-github",
        "colab_type": "text"
      },
      "source": [
        "<a href=\"https://colab.research.google.com/github/Tejashree198/Ace3/blob/main/N-Queen(backtracking).ipynb\" target=\"_parent\"><img src=\"https://colab.research.google.com/assets/colab-badge.svg\" alt=\"Open In Colab\"/></a>"
      ]
    },
    {
      "cell_type": "code",
      "source": [
        "class NQBacktracking:\n",
        "    def __init__(self, x_, y_):\n",
        "        \"\"\"self.ld is an array where its indices indicate row-col+N-1\n",
        "        (N-1) is for shifting the difference to store negative indices\"\"\"\n",
        "        self.ld = [0] * 30\n",
        "\n",
        "        \"\"\" self.rd is an array where its indices indicate row+col and used\n",
        "        to check whether a queen can be placed on right diagonal or not\"\"\"\n",
        "        self.rd = [0] * 30\n",
        "\n",
        "        \"\"\"column array where its indices indicates column and\n",
        "        used to check whether a queen can be placed in that row or not\"\"\"\n",
        "        self.cl = [0] * 30\n",
        "\n",
        "        \"\"\"Initial position of 1st queen\"\"\"\n",
        "        self.x = x_\n",
        "        self.y = y_\n",
        "\n",
        "    def printSolution(self, board):\n",
        "        \"\"\"A utility function to print solution\"\"\"\n",
        "        print(\n",
        "            \"N Queen Backtracking Solution:\\nGiven initial position of 1st queen at row:\",\n",
        "            self.x,\n",
        "            \"column:\",\n",
        "            self.y,\n",
        "            \"\\n\",\n",
        "        )\n",
        "        for line in board:\n",
        "            print(\" \".join(map(str, line)))\n",
        "\n",
        "    def solveNQUtil(self, board, col):\n",
        "        \"\"\"A recursive utility function to solve N\n",
        "        Queen problem\"\"\"\n",
        "\n",
        "        # base case: If all queens are placed then return True\n",
        "        if col >= N:\n",
        "            return True\n",
        "\n",
        "        # Overlook the column where 1st queen is placed\n",
        "        if col == self.y:\n",
        "            return self.solveNQUtil(board, col + 1)\n",
        "\n",
        "        for i in range(N):\n",
        "            # Overlook the row where 1st queen is placed\n",
        "            if i == self.x:\n",
        "                continue\n",
        "            # Consider this column and try placing\n",
        "            # this queen in all rows one by one\n",
        "\n",
        "            # Check if the queen can be placed on board[i][col]\n",
        "            # A check if a queen can be placed on board[row][col].\n",
        "            # We just need to check self.ld[row-col+n-1] and self.rd[row+coln]\n",
        "            # where self.ld and self.rd are for left and right diagonal respectively\n",
        "            if (self.ld[i - col + N - 1] != 1 and self.rd[i + col] != 1) and self.cl[\n",
        "                i\n",
        "            ] != 1:\n",
        "\n",
        "                # lace this queen in board[i][col]\n",
        "                board[i][col] = 1\n",
        "                self.ld[i - col + N - 1] = self.rd[i + col] = self.cl[i] = 1\n",
        "\n",
        "                # recur to place rest of the queens\n",
        "                if self.solveNQUtil(board, col + 1):\n",
        "                    return True\n",
        "\n",
        "                # If placing queen in board[i][col]\n",
        "                # doesn't lead to a solution,\n",
        "                # then remove queen from board[i][col]\n",
        "                board[i][col] = 0  # BACKTRACK\n",
        "                self.ld[i - col + N - 1] = self.rd[i + col] = self.cl[i] = 0\n",
        "\n",
        "                # If the queen cannot be placed in\n",
        "                # any row in this column col then return False\n",
        "                # print(\"col:\", col, \"i:\", i, board)\n",
        "        return False\n",
        "\n",
        "    def solveNQ(self):\n",
        "        \"\"\"This function solves the N Queen problem using\n",
        "        Backtracking. It mainly uses solveNQUtil() to\n",
        "        solve the problem. It returns False if queens\n",
        "        cannot be placed, otherwise, return True and\n",
        "        prints placement of queens in the form of 1s.\n",
        "        Please note that there may be more than one\n",
        "        solutions, this function prints one of the\n",
        "        feasible solutions.\"\"\"\n",
        "        board = [[0 for _ in range(N)] for _ in range(N)]\n",
        "        board[self.x][self.y] = 1\n",
        "\n",
        "        self.ld[self.x - self.y + N - 1] = self.rd[self.x + self.y] = self.cl[\n",
        "            self.x\n",
        "        ] = 1\n",
        "\n",
        "        if not self.solveNQUtil(board, 0):\n",
        "            print(\"Solution does not exist\")\n",
        "            return False\n",
        "        self.printSolution(board)\n",
        "        return True\n",
        "\n",
        "\n",
        "if __name__ == \"__main__\":\n",
        "    N = 8\n",
        "    x, y = 3, 2\n",
        "\n",
        "    NQBt = NQBacktracking(x, y)\n",
        "    NQBt.solveNQ()\n",
        "\n",
        "\n",
        "\"\"\"\n",
        "OUTPUT:\n",
        "\n",
        "N Queen Backtracking Solution:\n",
        "Given initial position of 1st queen at row: 3 column: 2\n",
        "\n",
        "1 0 0 0 0 0 0 0\n",
        "0 0 0 0 0 1 0 0\n",
        "0 0 0 0 0 0 0 1\n",
        "0 0 1 0 0 0 0 0\n",
        "0 0 0 0 0 0 1 0\n",
        "0 0 0 1 0 0 0 0\n",
        "0 1 0 0 0 0 0 0\n",
        "0 0 0 0 1 0 0 0\n",
        "\"\"\"\n"
      ],
      "metadata": {
        "id": "tWZSMZP8DV46",
        "outputId": "ea2c2417-cad1-4239-9e87-025ec3b35a34",
        "colab": {
          "base_uri": "https://localhost:8080/",
          "height": 244
        }
      },
      "execution_count": 7,
      "outputs": [
        {
          "output_type": "stream",
          "name": "stdout",
          "text": [
            "N Queen Backtracking Solution:\n",
            "Given initial position of 1st queen at row: 3 column: 2 \n",
            "\n",
            "1 0 0 0 0 0 0 0\n",
            "0 0 0 0 0 1 0 0\n",
            "0 0 0 0 0 0 0 1\n",
            "0 0 1 0 0 0 0 0\n",
            "0 0 0 0 0 0 1 0\n",
            "0 0 0 1 0 0 0 0\n",
            "0 1 0 0 0 0 0 0\n",
            "0 0 0 0 1 0 0 0\n"
          ]
        },
        {
          "output_type": "execute_result",
          "data": {
            "text/plain": [
              "'\\nOUTPUT:\\n\\nN Queen Backtracking Solution:\\nGiven initial position of 1st queen at row: 3 column: 2\\n\\n1 0 0 0 0 0 0 0\\n0 0 0 0 0 1 0 0\\n0 0 0 0 0 0 0 1\\n0 0 1 0 0 0 0 0\\n0 0 0 0 0 0 1 0\\n0 0 0 1 0 0 0 0\\n0 1 0 0 0 0 0 0\\n0 0 0 0 1 0 0 0\\n'"
            ],
            "application/vnd.google.colaboratory.intrinsic+json": {
              "type": "string"
            }
          },
          "metadata": {},
          "execution_count": 7
        }
      ]
    }
  ],
  "metadata": {
    "colab": {
      "name": "Welcome To Colaboratory",
      "toc_visible": true,
      "provenance": [],
      "include_colab_link": true
    },
    "kernelspec": {
      "display_name": "Python 3",
      "name": "python3"
    }
  },
  "nbformat": 4,
  "nbformat_minor": 0
}