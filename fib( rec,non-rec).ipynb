{
  "cells": [
    {
      "cell_type": "markdown",
      "metadata": {
        "id": "view-in-github",
        "colab_type": "text"
      },
      "source": [
        "<a href=\"https://colab.research.google.com/github/Tejashree198/Ace3/blob/main/fib(%20rec%2Cnon-rec).ipynb\" target=\"_parent\"><img src=\"https://colab.research.google.com/assets/colab-badge.svg\" alt=\"Open In Colab\"/></a>"
      ]
    },
    {
      "cell_type": "code",
      "source": [
        "import timeit\n",
        "\n",
        "\n",
        "def fibonacci(n):\n",
        "    \"\"\"Non recursive fibonacci function\"\"\"\n",
        "    for i in range(2, n + 1):\n",
        "        fib_list[i] = fib_list[i - 1] + fib_list[i - 2]\n",
        "    return fib_list[n]\n",
        "\n",
        "\n",
        "def fibonacci_recursive(n):\n",
        "    \"\"\"Recursive fibonacci function\"\"\"\n",
        "    if n == 0:\n",
        "        return 0\n",
        "    if n == 1:\n",
        "        return 1\n",
        "    fib_recur_list[n] = fibonacci_recursive(n - 1) + fibonacci_recursive(n - 2)\n",
        "    return fib_recur_list[n]\n",
        "\n",
        "\n",
        "N = 20\n",
        "RUNS = 1000\n",
        "print(f\"Given N = {N}\\n{RUNS} runs\")\n",
        "\n",
        "fib_list = [0] * (N + 1)\n",
        "fib_list[0] = 0\n",
        "fib_list[1] = 1\n",
        "print(\n",
        "    \"Fibonacci non-recursive:\\t\",\n",
        "    fibonacci(N),\n",
        "    \"\\tTime:\",\n",
        "    f'{timeit.timeit(\"fibonacci(N)\", setup=f\"from __main__ import fibonacci;N={N}\", number=RUNS):5f}',\n",
        "    \"O(n)\\tSpace: O(1)\",\n",
        ")\n",
        "\n",
        "fib_recur_list = [0] * (N + 1)\n",
        "fib_recur_list[0] = 0\n",
        "fib_recur_list[1] = 1\n",
        "print(\n",
        "    \"Fibonacci recursive:\\t\",\n",
        "    fibonacci_recursive(N),\n",
        "    \"\\tTime:\",\n",
        "    f'{timeit.timeit(\"fibonacci_recursive(N)\", setup=f\"from __main__ import fibonacci_recursive;N={N}\", number=RUNS,):5f}',\n",
        "    \"O(2^n)\\tSpace: O(n)\",\n",
        ")\n",
        "\n",
        "\n",
        "\"\"\"\n",
        "OUTPUT:\n",
        "\n",
        "Given N = 20\n",
        "1000 runs\n",
        "Fibonacci non-recursive: 6765   Time: 0.001657 O(n)     Space: O(1)\n",
        "Fibonacci recursive:     6765   Time: 2.064246 O(2^n)   Space: O(n)\n",
        "\"\"\"\n"
      ],
      "metadata": {
        "id": "CuaeqFNiBRko",
        "outputId": "aa0de699-7ba7-4241-a29f-b1fa5a419491",
        "colab": {
          "base_uri": "https://localhost:8080/",
          "height": 122
        }
      },
      "execution_count": 4,
      "outputs": [
        {
          "output_type": "stream",
          "name": "stdout",
          "text": [
            "Given N = 20\n",
            "1000 runs\n",
            "Fibonacci non-recursive:\t 6765 \tTime: 0.006761 O(n)\tSpace: O(1)\n",
            "Fibonacci recursive:\t 6765 \tTime: 3.846713 O(2^n)\tSpace: O(n)\n"
          ]
        },
        {
          "output_type": "execute_result",
          "data": {
            "text/plain": [
              "'\\nOUTPUT:\\n\\nGiven N = 20\\n1000 runs\\nFibonacci non-recursive: 6765   Time: 0.001657 O(n)     Space: O(1)\\nFibonacci recursive:     6765   Time: 2.064246 O(2^n)   Space: O(n)\\n'"
            ],
            "application/vnd.google.colaboratory.intrinsic+json": {
              "type": "string"
            }
          },
          "metadata": {},
          "execution_count": 4
        }
      ]
    }
  ],
  "metadata": {
    "colab": {
      "name": "Welcome To Colaboratory",
      "toc_visible": true,
      "provenance": [],
      "include_colab_link": true
    },
    "kernelspec": {
      "display_name": "Python 3",
      "name": "python3"
    }
  },
  "nbformat": 4,
  "nbformat_minor": 0
}