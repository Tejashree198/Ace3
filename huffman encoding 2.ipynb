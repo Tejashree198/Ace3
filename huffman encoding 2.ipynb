{
  "cells": [
    {
      "cell_type": "markdown",
      "metadata": {
        "id": "view-in-github",
        "colab_type": "text"
      },
      "source": [
        "<a href=\"https://colab.research.google.com/github/Tejashree198/Ace3/blob/main/huffman%20encoding%202.ipynb\" target=\"_parent\"><img src=\"https://colab.research.google.com/assets/colab-badge.svg\" alt=\"Open In Colab\"/></a>"
      ]
    },
    {
      "cell_type": "code",
      "source": [
        "class Node:\n",
        "    \"\"\"A Huffman Tree Node\"\"\"\n",
        "\n",
        "    def __init__(self, freq_, symbol_, left_=None, right_=None):\n",
        "        # frequency of symbol\n",
        "        self.freq = freq_\n",
        "\n",
        "        # symbol name (character)\n",
        "        self.symbol = symbol_\n",
        "\n",
        "        # node left of current node\n",
        "        self.left = left_\n",
        "\n",
        "        # node right of current node\n",
        "        self.right = right_\n",
        "\n",
        "        # tree direction (0/1)\n",
        "        self.huff = \"\"\n",
        "\n",
        "\n",
        "def print_nodes(node, val=\"\"):\n",
        "    \"\"\"Utility function to print huffman codes for all symbols in the newly created Huffman tree\"\"\"\n",
        "    # huffman code for current node\n",
        "    new_val = val + str(node.huff)\n",
        "\n",
        "    # if node is not an edge node then traverse inside it\n",
        "    if node.left:\n",
        "        print_nodes(node.left, new_val)\n",
        "    if node.right:\n",
        "        print_nodes(node.right, new_val)\n",
        "\n",
        "    # if node is edge node then display its huffman code\n",
        "    if not node.left and not node.right:\n",
        "        print(f\"{node.symbol} -> {new_val}\")\n",
        "\n",
        "\n",
        "# characters for huffman tree\n",
        "chars = [\"a\", \"b\", \"c\", \"d\", \"e\", \"f\"]\n",
        "\n",
        "# frequency of characters\n",
        "freq = [5, 9, 12, 13, 16, 45]\n",
        "\n",
        "# list containing huffman tree nodes of characters and frequencies\n",
        "nodes = [Node(freq[x], chars[x]) for x in range(len(chars))]\n",
        "\n",
        "while len(nodes) > 1:\n",
        "    # sort all the nodes in ascending order based on their frequency\n",
        "    nodes = sorted(nodes, key=lambda x: x.freq)\n",
        "\n",
        "    # pick 2 smallest nodes\n",
        "    left = nodes[0]\n",
        "    right = nodes[1]\n",
        "\n",
        "    # assign directional value to these nodes\n",
        "    left.huff = 0\n",
        "    right.huff = 1\n",
        "\n",
        "    # combine the 2 smallest nodes to create new node as their parent\n",
        "    newNode = Node(left.freq + right.freq, left.symbol + right.symbol, left, right)\n",
        "\n",
        "    # remove the 2 nodes and add their parent as new node among others\n",
        "    nodes.remove(left)\n",
        "    nodes.remove(right)\n",
        "    nodes.append(newNode)\n",
        "\n",
        "\n",
        "print(\"Characters :\", f'[{\", \".join(chars)}]')\n",
        "print(\"Frequency  :\", freq, \"\\n\\nHuffman Encoding:\")\n",
        "print_nodes(nodes[0])\n",
        "\n",
        "\"\"\"\n",
        "OUTPUT:\n",
        "\n",
        "Characters : [a, b, c, d, e, f]\n",
        "Frequency  : [5, 9, 12, 13, 16, 45]\n",
        "\n",
        "Huffman Encoding:\n",
        "f -> 0\n",
        "c -> 100\n",
        "d -> 101\n",
        "a -> 1100\n",
        "b -> 1101\n",
        "e -> 111\n",
        "\"\"\"\n"
      ],
      "metadata": {
        "id": "saPcYtuvB-up",
        "outputId": "1388cb3c-dea3-48f8-ca14-451a8ed8ea9b",
        "colab": {
          "base_uri": "https://localhost:8080/",
          "height": 226
        }
      },
      "execution_count": 5,
      "outputs": [
        {
          "output_type": "stream",
          "name": "stdout",
          "text": [
            "Characters : [a, b, c, d, e, f]\n",
            "Frequency  : [5, 9, 12, 13, 16, 45] \n",
            "\n",
            "Huffman Encoding:\n",
            "f -> 0\n",
            "c -> 100\n",
            "d -> 101\n",
            "a -> 1100\n",
            "b -> 1101\n",
            "e -> 111\n"
          ]
        },
        {
          "output_type": "execute_result",
          "data": {
            "text/plain": [
              "'\\nOUTPUT:\\n\\nCharacters : [a, b, c, d, e, f]\\nFrequency  : [5, 9, 12, 13, 16, 45]\\n\\nHuffman Encoding:\\nf -> 0\\nc -> 100\\nd -> 101\\na -> 1100\\nb -> 1101\\ne -> 111\\n'"
            ],
            "application/vnd.google.colaboratory.intrinsic+json": {
              "type": "string"
            }
          },
          "metadata": {},
          "execution_count": 5
        }
      ]
    }
  ],
  "metadata": {
    "colab": {
      "name": "Welcome To Colaboratory",
      "toc_visible": true,
      "provenance": [],
      "include_colab_link": true
    },
    "kernelspec": {
      "display_name": "Python 3",
      "name": "python3"
    }
  },
  "nbformat": 4,
  "nbformat_minor": 0
}