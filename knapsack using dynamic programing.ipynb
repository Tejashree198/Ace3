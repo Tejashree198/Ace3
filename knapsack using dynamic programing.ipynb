{
  "cells": [
    {
      "cell_type": "markdown",
      "metadata": {
        "id": "view-in-github",
        "colab_type": "text"
      },
      "source": [
        "<a href=\"https://colab.research.google.com/github/Tejashree198/Ace3/blob/main/knapsack%20using%20dynamic%20programing.ipynb\" target=\"_parent\"><img src=\"https://colab.research.google.com/assets/colab-badge.svg\" alt=\"Open In Colab\"/></a>"
      ]
    },
    {
      "cell_type": "code",
      "source": [
        "def knapsack_dp(W, wt, val, n):\n",
        "    \"\"\"A Dynamic Programming based solution for 0-1 Knapsack problem\n",
        "    Returns the maximum value that can\"\"\"\n",
        "    K = [[0 for x in range(W + 1)] for x in range(n + 1)]\n",
        "\n",
        "    # Build table K[][] in bottom up manner\n",
        "    for i in range(n + 1):\n",
        "        for w in range(W + 1):\n",
        "            if i == 0 or w == 0:\n",
        "                K[i][w] = 0\n",
        "            elif wt[i - 1] <= w:\n",
        "                K[i][w] = max(val[i - 1] + K[i - 1][w - wt[i - 1]], K[i - 1][w])\n",
        "            else:\n",
        "                K[i][w] = K[i - 1][w]\n",
        "    return K[n][W]\n",
        "\n",
        "\n",
        "val = [60, 100, 120]\n",
        "wt = [10, 20, 30]\n",
        "W = 50\n",
        "n = len(val)\n",
        "print(\"Maximum possible profit =\", knapsack_dp(W, wt, val, n))\n",
        "\n",
        "\"\"\"\n",
        "OUTPUT:\n",
        "\n",
        "Maximum possible profit = 220\n",
        "\"\"\"\n"
      ],
      "metadata": {
        "id": "je5Ok2aFCoop",
        "outputId": "6f8e7478-0275-430d-deb9-c0b765605849",
        "colab": {
          "base_uri": "https://localhost:8080/",
          "height": 53
        }
      },
      "execution_count": 6,
      "outputs": [
        {
          "output_type": "stream",
          "name": "stdout",
          "text": [
            "Maximum possible profit = 220\n"
          ]
        },
        {
          "output_type": "execute_result",
          "data": {
            "text/plain": [
              "'\\nOUTPUT:\\n\\nMaximum possible profit = 220\\n'"
            ],
            "application/vnd.google.colaboratory.intrinsic+json": {
              "type": "string"
            }
          },
          "metadata": {},
          "execution_count": 6
        }
      ]
    }
  ],
  "metadata": {
    "colab": {
      "name": "Welcome To Colaboratory",
      "toc_visible": true,
      "provenance": [],
      "include_colab_link": true
    },
    "kernelspec": {
      "display_name": "Python 3",
      "name": "python3"
    }
  },
  "nbformat": 4,
  "nbformat_minor": 0
}